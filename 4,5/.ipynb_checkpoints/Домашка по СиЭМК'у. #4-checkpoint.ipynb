{
 "cells": [
  {
   "cell_type": "markdown",
   "metadata": {
    "collapsed": true
   },
   "source": [
    "<center>\n",
    "\n",
    "# Домашнее задание по Статистическим и Эмпирическим Методам Компьютинга\n",
    "\n",
    "### Подготовил Куприянов Кирилл Игоревич, студент гр. БПИ 151(1)\n",
    "\n",
    "</center> Задание 4"
   ]
  },
  {
   "cell_type": "code",
   "execution_count": 26,
   "metadata": {
    "collapsed": false
   },
   "outputs": [
    {
     "name": "stdout",
     "output_type": "stream",
     "text": [
      "Populating the interactive namespace from numpy and matplotlib\n"
     ]
    }
   ],
   "source": [
    "import pandas as pd\n",
    "import numpy as np\n",
    "import matplotlib.pyplot as plt\n",
    "import statsmodels.api as sm\n",
    "from sklearn import linear_model\n",
    "import scipy.stats as sts\n",
    "%pylab inline"
   ]
  },
  {
   "cell_type": "markdown",
   "metadata": {},
   "source": [
    "# Часть 1"
   ]
  },
  {
   "cell_type": "code",
   "execution_count": 5,
   "metadata": {
    "collapsed": true
   },
   "outputs": [],
   "source": [
    "df = pd.read_excel('Данные к задаче 4 дз (мультиколлинеарность).xls')\n",
    "\n",
    "x2, x3, x4, y = list(df['x2_7']), list(df['x3_7']), list(df['x4_7']), list(df['y_7'])"
   ]
  },
  {
   "cell_type": "markdown",
   "metadata": {},
   "source": [
    "## Регрессионный анализ методом наименьших квадратов"
   ]
  },
  {
   "cell_type": "code",
   "execution_count": 11,
   "metadata": {
    "collapsed": true
   },
   "outputs": [],
   "source": [
    "def reg_m(y, x):\n",
    "    x = np.array(x).T\n",
    "    x = sm.add_constant(x)\n",
    "    results = sm.OLS(endog=y, exog=x).fit()\n",
    "    return results"
   ]
  },
  {
   "cell_type": "code",
   "execution_count": 12,
   "metadata": {
    "collapsed": false
   },
   "outputs": [
    {
     "name": "stdout",
     "output_type": "stream",
     "text": [
      "                            OLS Regression Results                            \n",
      "==============================================================================\n",
      "Dep. Variable:                      y   R-squared:                       0.357\n",
      "Model:                            OLS   Adj. R-squared:                  0.304\n",
      "Method:                 Least Squares   F-statistic:                     6.673\n",
      "Date:                Sun, 21 May 2017   Prob (F-statistic):            0.00107\n",
      "Time:                        16:06:07   Log-Likelihood:                -144.59\n",
      "No. Observations:                  40   AIC:                             297.2\n",
      "Df Residuals:                      36   BIC:                             303.9\n",
      "Df Model:                           3                                         \n",
      "Covariance Type:            nonrobust                                         \n",
      "==============================================================================\n",
      "                 coef    std err          t      P>|t|      [95.0% Conf. Int.]\n",
      "------------------------------------------------------------------------------\n",
      "const        -96.8891    151.043     -0.641      0.525      -403.219   209.441\n",
      "x1             0.5839      0.187      3.115      0.004         0.204     0.964\n",
      "x2           -13.6255     24.370     -0.559      0.580       -63.051    35.800\n",
      "x3            18.0652     30.437      0.594      0.557       -43.663    79.794\n",
      "==============================================================================\n",
      "Omnibus:                        0.404   Durbin-Watson:                   1.331\n",
      "Prob(Omnibus):                  0.817   Jarque-Bera (JB):                0.566\n",
      "Skew:                          -0.135   Prob(JB):                        0.754\n",
      "Kurtosis:                       2.484   Cond. No.                     5.10e+03\n",
      "==============================================================================\n",
      "\n",
      "Warnings:\n",
      "[1] Standard Errors assume that the covariance matrix of the errors is correctly specified.\n",
      "[2] The condition number is large, 5.1e+03. This might indicate that there are\n",
      "strong multicollinearity or other numerical problems.\n"
     ]
    }
   ],
   "source": [
    "reg = reg_m(y, [x2, x3, x4])\n",
    "print(reg.summary())"
   ]
  },
  {
   "cell_type": "markdown",
   "metadata": {},
   "source": [
    "### Проверка значимости регресии в целом\n",
    "Гипотеза $H_0$: Все 3 коэффициента (при x2, x3 и x4) нули\n",
    "\n",
    "Альтернативная гипотеза $H_A$: Хотя бы 1 из 3 коэффициентов не равен 0"
   ]
  },
  {
   "cell_type": "code",
   "execution_count": 15,
   "metadata": {
    "collapsed": false
   },
   "outputs": [
    {
     "name": "stdout",
     "output_type": "stream",
     "text": [
      "statistic: 6.6732682776219265\n",
      "p-value: 0.0010668972515127102\n"
     ]
    }
   ],
   "source": [
    "print('statistic: {}'.format(reg.fvalue))\n",
    "print('p-value: {}'.format(reg.f_pvalue))"
   ]
  },
  {
   "cell_type": "markdown",
   "metadata": {},
   "source": [
    "Если $pvalue$ $\\leqslant$ $\\alpha$ для табличных значений распределения Фишера $F(q, n-q-1, \\alpha)$, то $H_0$ отвергается\n",
    "\n",
    "$q$ - число ограниченй = 3\n",
    "\n",
    "$n$ - число точек в выборке = 40"
   ]
  },
  {
   "cell_type": "markdown",
   "metadata": {},
   "source": [
    "$H_0$ отвергается"
   ]
  },
  {
   "cell_type": "markdown",
   "metadata": {},
   "source": [
    "### Проверка гипотезы о совместной значимости коэффициентов при переменных x3 и x4"
   ]
  },
  {
   "cell_type": "markdown",
   "metadata": {},
   "source": [
    "Для каждой объясняющей переменной (x2, x3, x4):\n",
    "\n",
    "Нулевая гипотеза $H_0$: $x_i$ = 0\n",
    "Альтернативная гипотеза $H_A$: $x_i$ != 0"
   ]
  },
  {
   "cell_type": "code",
   "execution_count": 18,
   "metadata": {
    "collapsed": false
   },
   "outputs": [
    {
     "name": "stdout",
     "output_type": "stream",
     "text": [
      "x2:\n",
      "\t t-statistic = 3.11454910593\n",
      "\t pvalue = 0.00360436809906\n",
      "x3:\n",
      "\t t-statistic = -0.559099403234\n",
      "\t pvalue = 0.579555661577\n",
      "x4:\n",
      "\t t-statistic = 0.593533109895\n",
      "\t pvalue = 0.556535557181\n"
     ]
    }
   ],
   "source": [
    "for i in range(1, 4):\n",
    "    print('x{}:'.format(str(i+1)))\n",
    "    print('\\t t-statistic = {}'.format(str(reg.tvalues[i])))\n",
    "    print('\\t pvalue = {}'.format(str(reg.pvalues[i])))"
   ]
  },
  {
   "cell_type": "markdown",
   "metadata": {},
   "source": [
    "Если $pvalue$ меньше уровня значимости $\\alpha$ для табличных значений $t$-распределения $t(a, n - m -1)$, то $H_0$ отвергается.\n",
    "\n",
    "$n$ - кол-во наблюдений\n",
    "\n",
    "$m$ - кол-во объясняющих переменных, включенных в регрессию"
   ]
  },
  {
   "cell_type": "markdown",
   "metadata": {},
   "source": [
    "statistic = 2.031. Все $pvalue$ объясняющих переменных меньше, значит все коэффициенты значимы"
   ]
  },
  {
   "cell_type": "markdown",
   "metadata": {},
   "source": [
    "### Проверка гипотезы о совместной значимости коэффициентов при переменных $x_3$ и $x_4$\n",
    "Гипотеза $H_0$: $B_3$ = $B_4$ = 0\n",
    "\n",
    "Альтернативная гипотеза $H_A$: NOT $H_0$: $(B_3^2 + B_4^2 > 0)$"
   ]
  },
  {
   "cell_type": "code",
   "execution_count": 21,
   "metadata": {
    "collapsed": false
   },
   "outputs": [
    {
     "data": {
      "text/plain": [
       "6.3136713509498152"
      ]
     },
     "execution_count": 21,
     "metadata": {},
     "output_type": "execute_result"
    }
   ],
   "source": [
    "reg2 = reg_m(y, [x2])\n",
    "R2_ur = reg.rsquared\n",
    "R2_r = reg2.rsquared\n",
    "((R2_ur - R2_r) / 2) / ((1 - R2_ur) / (len(y) - 4))"
   ]
  },
  {
   "cell_type": "code",
   "execution_count": 22,
   "metadata": {
    "collapsed": false
   },
   "outputs": [
    {
     "data": {
      "text/plain": [
       "36"
      ]
     },
     "execution_count": 22,
     "metadata": {},
     "output_type": "execute_result"
    }
   ],
   "source": [
    "len(y)-4"
   ]
  },
  {
   "cell_type": "markdown",
   "metadata": {},
   "source": [
    "F(2, 36) = 5.25 ($\\alpha$ = 0.01) = Fcrit\n",
    "\n",
    "F-val=6.10 > Fcrit=5.25  ->  $H_0$ отвергается и коэффициенты при $x_3$ и $x_4$ совместно значимы"
   ]
  },
  {
   "cell_type": "markdown",
   "metadata": {},
   "source": [
    "### Корреляционная матрица для объясняющих переменных\n"
   ]
  },
  {
   "cell_type": "code",
   "execution_count": 23,
   "metadata": {
    "collapsed": false
   },
   "outputs": [
    {
     "name": "stdout",
     "output_type": "stream",
     "text": [
      "[[ 1.         -0.16548289 -0.16384161]\n",
      " [-0.16548289  1.          0.99995171]\n",
      " [-0.16384161  0.99995171  1.        ]]\n"
     ]
    }
   ],
   "source": [
    "print(np.corrcoef([x2, x3, x4]))"
   ]
  },
  {
   "cell_type": "markdown",
   "metadata": {},
   "source": [
    "# Часть 2\n",
    "### График зависимости оценок коэффициентов от alpha"
   ]
  },
  {
   "cell_type": "code",
   "execution_count": 27,
   "metadata": {
    "collapsed": true
   },
   "outputs": [],
   "source": [
    "def graph(alphas):\n",
    "    n_alphas = len(alphas)\n",
    "    clf = linear_model.Ridge(fit_intercept=False)\n",
    "\n",
    "    coefs = []\n",
    "    for a in alphas:\n",
    "        clf.set_params(alpha=a)\n",
    "        clf.fit(np.array([x2, x3, x4]).T, y)\n",
    "        coefs.append(clf.coef_)\n",
    "    \n",
    "    ax = plt.gca()\n",
    "\n",
    "    ax.plot(alphas, coefs)\n",
    "    ax.set_xscale('log')\n",
    "    #ax.set_xlim(ax.get_xlim()[::-1])  # reverse axis\n",
    "    plt.xlabel('alpha')\n",
    "    plt.ylabel('estimation')\n",
    "    plt.title('Ridge coefficients as a function of the regularization')\n",
    "    plt.axis('tight')\n",
    "    plt.show()"
   ]
  },
  {
   "cell_type": "code",
   "execution_count": 28,
   "metadata": {
    "collapsed": false
   },
   "outputs": [
    {
     "data": {
      "image/png": "[encoded data removed]",
      "text/plain": [
       "<matplotlib.figure.Figure at 0x7efbb5e90ac8>"
      ]
     },
     "metadata": {},
     "output_type": "display_data"
    },
    {
     "data": {
      "image/png": "[encoded data removed]",
      "text/plain": [
       "<matplotlib.figure.Figure at 0x7efbb5386550>"
      ]
     },
     "metadata": {},
     "output_type": "display_data"
    }
   ],
   "source": [
    "graph(np.arange(0., 100.1, .1))\n",
    "graph(np.arange(0., 100000., 10))"
   ]
  },
  {
   "cell_type": "markdown",
   "metadata": {},
   "source": [
    "С увеличением параметра alpha оценка коэффициентов стремится к 0"
   ]
  },
  {
   "cell_type": "code",
   "execution_count": null,
   "metadata": {
    "collapsed": true
   },
   "outputs": [],
   "source": []
  }
 ],
 "metadata": {
  "anaconda-cloud": {},
  "kernelspec": {
   "display_name": "Python [conda root]",
   "language": "python",
   "name": "conda-root-py"
  },
  "language_info": {
   "codemirror_mode": {
    "name": "ipython",
    "version": 3
   },
   "file_extension": ".py",
   "mimetype": "text/x-python",
   "name": "python",
   "nbconvert_exporter": "python",
   "pygments_lexer": "ipython3",
   "version": "3.5.2"
  }
 },
 "nbformat": 4,
 "nbformat_minor": 1
}
