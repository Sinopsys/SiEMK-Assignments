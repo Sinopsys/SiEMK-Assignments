{
 "cells": [
  {
   "cell_type": "code",
   "execution_count": 2,
   "metadata": {
    "collapsed": true
   },
   "outputs": [],
   "source": [
    "import pandas as pd\n",
    "import numpy as np\n",
    "import statsmodels.api as sm\n",
    "from sklearn import linear_model\n",
    "import matplotlib.pyplot as plt"
   ]
  },
  {
   "cell_type": "markdown",
   "metadata": {},
   "source": [
    "# Часть 1"
   ]
  },
  {
   "cell_type": "markdown",
   "metadata": {},
   "source": [
    "### Чтение данных из .xls файла\n",
    "y - зависимая переменная, x2, x3, x4 - объясняющие переменные"
   ]
  },
  {
   "cell_type": "code",
   "execution_count": 3,
   "metadata": {
    "collapsed": false
   },
   "outputs": [],
   "source": [
    "data = pd.read_excel('Данные к задаче 4 дз (мультиколлинеарность).xls')\n",
    "\n",
    "x2 = list(data['x2_2'])\n",
    "x3 = list(data['x3_2'])\n",
    "x4 = list(data['x4_2'])\n",
    "y = list(data['y_2'])"
   ]
  },
  {
   "cell_type": "code",
   "execution_count": 4,
   "metadata": {
    "collapsed": false
   },
   "outputs": [
    {
     "data": {
      "text/plain": [
       "40"
      ]
     },
     "execution_count": 4,
     "metadata": {},
     "output_type": "execute_result"
    }
   ],
   "source": [
    "len(y)"
   ]
  },
  {
   "cell_type": "markdown",
   "metadata": {},
   "source": [
    "### Регрессионный анализ методом наименьших квадратов (OLS)"
   ]
  },
  {
   "cell_type": "code",
   "execution_count": 5,
   "metadata": {
    "collapsed": true
   },
   "outputs": [],
   "source": [
    "def reg_m(y, x):\n",
    "    x = np.array(x).T\n",
    "    x = sm.add_constant(x)\n",
    "    results = sm.OLS(endog=y, exog=x).fit()\n",
    "    return results"
   ]
  },
  {
   "cell_type": "code",
   "execution_count": 6,
   "metadata": {
    "collapsed": false
   },
   "outputs": [
    {
     "name": "stdout",
     "output_type": "stream",
     "text": [
      "                            OLS Regression Results                            \n",
      "==============================================================================\n",
      "Dep. Variable:                      y   R-squared:                       0.298\n",
      "Model:                            OLS   Adj. R-squared:                  0.240\n",
      "Method:                 Least Squares   F-statistic:                     5.104\n",
      "Date:                Sun, 21 May 2017   Prob (F-statistic):            0.00479\n",
      "Time:                        16:55:51   Log-Likelihood:                -144.98\n",
      "No. Observations:                  40   AIC:                             298.0\n",
      "Df Residuals:                      36   BIC:                             304.7\n",
      "Df Model:                           3                                         \n",
      "Covariance Type:            nonrobust                                         \n",
      "==============================================================================\n",
      "                 coef    std err          t      P>|t|      [95.0% Conf. Int.]\n",
      "------------------------------------------------------------------------------\n",
      "const       -199.4736    119.115     -1.675      0.103      -441.050    42.103\n",
      "x1             0.5122      0.251      2.039      0.049         0.003     1.022\n",
      "x2           -30.3088     18.968     -1.598      0.119       -68.778     8.160\n",
      "x3            38.7857     23.745      1.633      0.111        -9.372    86.943\n",
      "==============================================================================\n",
      "Omnibus:                        1.016   Durbin-Watson:                   2.353\n",
      "Prob(Omnibus):                  0.602   Jarque-Bera (JB):                0.882\n",
      "Skew:                           0.090   Prob(JB):                        0.643\n",
      "Kurtosis:                       2.295   Cond. No.                     4.25e+03\n",
      "==============================================================================\n",
      "\n",
      "Warnings:\n",
      "[1] Standard Errors assume that the covariance matrix of the errors is correctly specified.\n",
      "[2] The condition number is large, 4.25e+03. This might indicate that there are\n",
      "strong multicollinearity or other numerical problems.\n"
     ]
    }
   ],
   "source": [
    "reg = reg_m(y, [x2, x3, x4])\n",
    "print(reg.summary())"
   ]
  },
  {
   "cell_type": "markdown",
   "metadata": {},
   "source": [
    "### Проверка значимости регресии в целом"
   ]
  },
  {
   "cell_type": "markdown",
   "metadata": {
    "collapsed": true
   },
   "source": [
    "Гипотеза _H0_: Все 3 коэффициента (при x2, x3 и x4) равны 0\n",
    "\n",
    "Альтернативная гипотеза _H1_: Хотя бы 1 из 3 коэффициентов не равен 0"
   ]
  },
  {
   "cell_type": "code",
   "execution_count": 7,
   "metadata": {
    "collapsed": false
   },
   "outputs": [
    {
     "name": "stdout",
     "output_type": "stream",
     "text": [
      "F-statistic:  5.10411195951\n",
      "F-pvalue:  0.0047931339648\n"
     ]
    }
   ],
   "source": [
    "print('F-statistic: ', reg.fvalue)\n",
    "print('F-pvalue: ', reg.f_pvalue)"
   ]
  },
  {
   "cell_type": "markdown",
   "metadata": {},
   "source": [
    "Если _F-pvalue_ меньше уровня значимости _a_ для табличных значений распределения Фишера _F(q, n-q-1, a)_, то _H0_ отвергается\n",
    "\n",
    "_q_ - число ограниченй = 3\n",
    "\n",
    "_n_ - число точек в выборке = 40"
   ]
  },
  {
   "cell_type": "markdown",
   "metadata": {},
   "source": [
    "### Проверка значимости коэффициентов при объясняющих переменных по отдельности"
   ]
  },
  {
   "cell_type": "markdown",
   "metadata": {},
   "source": [
    "Для каждой объясняющей переменной (x2, x3, x4):\n",
    "\n",
    "Нулевая гипотеза _H0_: xi = 0\n",
    "Альтернативная гипотеза _H1_: xi != 0"
   ]
  },
  {
   "cell_type": "code",
   "execution_count": 8,
   "metadata": {
    "collapsed": false
   },
   "outputs": [
    {
     "name": "stdout",
     "output_type": "stream",
     "text": [
      "x2:\n",
      "    t-statistic = 2.03891017668\n",
      "    pvalue = 0.0488534479259\n",
      "x3:\n",
      "    t-statistic = -1.59789369629\n",
      "    pvalue = 0.118808229422\n",
      "x4:\n",
      "    t-statistic = 1.63341581836\n",
      "    pvalue = 0.111098513994\n"
     ]
    }
   ],
   "source": [
    "for i in range(1, 4):\n",
    "    print('x' + str(i+1) + \":\")\n",
    "    print('    t-statistic = ' + str(reg.tvalues[i]))\n",
    "    print('    pvalue = ' + str(reg.pvalues[i]))"
   ]
  },
  {
   "cell_type": "markdown",
   "metadata": {},
   "source": [
    "Если _pvalue_ меньше уровня значимости _a_ для табличных значений _t_-распределения _t(a, n - m -1)_, то _H0_ отвергается.\n",
    "\n",
    "_n_ - кол-во наблюдений\n",
    "\n",
    "_m_ - кол-во объясняющих переменных, включенных в регрессию"
   ]
  },
  {
   "cell_type": "markdown",
   "metadata": {},
   "source": [
    "### Проверка гипотезы о совместной значимости коэффициентов при переменных x3 и x4\n",
    "Гипотеза _H0_: B3 = B4 = 0\n",
    "\n",
    "Альтернативная гипотеза _H1_: NOT _H0_: (B3^2 + B4^2 > 0)"
   ]
  },
  {
   "cell_type": "code",
   "execution_count": 9,
   "metadata": {
    "collapsed": false
   },
   "outputs": [
    {
     "data": {
      "text/plain": [
       "6.1023470114135723"
      ]
     },
     "execution_count": 9,
     "metadata": {},
     "output_type": "execute_result"
    }
   ],
   "source": [
    "reg2 = reg_m(y, [x2])\n",
    "R2_ur = reg.rsquared\n",
    "R2_r = reg2.rsquared\n",
    "((R2_ur - R2_r)/2) / ((1 - R2_ur)/(len(y) - 4))"
   ]
  },
  {
   "cell_type": "code",
   "execution_count": 10,
   "metadata": {
    "collapsed": false
   },
   "outputs": [
    {
     "data": {
      "text/plain": [
       "36"
      ]
     },
     "execution_count": 10,
     "metadata": {},
     "output_type": "execute_result"
    }
   ],
   "source": [
    "len(y)-4"
   ]
  },
  {
   "cell_type": "markdown",
   "metadata": {},
   "source": [
    "F(2, 36) = 5.25 (alpha = 0.01) = Fcrit\n",
    "\n",
    "F-val=6.10 > Fcrit=5.25  ->  H0 отвергается и коэффициенты при x3 и x4 совместно значимы"
   ]
  },
  {
   "cell_type": "markdown",
   "metadata": {},
   "source": [
    "### Корреляционная матрица для объясняющих переменных"
   ]
  },
  {
   "cell_type": "code",
   "execution_count": 11,
   "metadata": {
    "collapsed": false
   },
   "outputs": [
    {
     "name": "stdout",
     "output_type": "stream",
     "text": [
      "[[ 1.         -0.17835897 -0.17680463]\n",
      " [-0.17835897  1.          0.99993507]\n",
      " [-0.17680463  0.99993507  1.        ]]\n"
     ]
    }
   ],
   "source": [
    "print(np.corrcoef([x2, x3, x4]))"
   ]
  },
  {
   "cell_type": "markdown",
   "metadata": {},
   "source": [
    "# Часть 2\n",
    "### График зависимости оценок коэффициентов от alpha"
   ]
  },
  {
   "cell_type": "markdown",
   "metadata": {},
   "source": [
    "http://scikit-learn.org/stable/auto_examples/linear_model/plot_ridge_path.html"
   ]
  },
  {
   "cell_type": "code",
   "execution_count": 12,
   "metadata": {
    "collapsed": false
   },
   "outputs": [],
   "source": [
    "def graph(alphas):\n",
    "    n_alphas = len(alphas)\n",
    "    clf = linear_model.Ridge(fit_intercept=False)\n",
    "\n",
    "    coefs = []\n",
    "    for a in alphas:\n",
    "        clf.set_params(alpha=a)\n",
    "        clf.fit(np.array([x2, x3, x4]).T, y)\n",
    "        coefs.append(clf.coef_)\n",
    "    \n",
    "    ax = plt.gca()\n",
    "\n",
    "    ax.plot(alphas, coefs)\n",
    "    ax.set_xscale('log')\n",
    "    #ax.set_xlim(ax.get_xlim()[::-1])  # reverse axis\n",
    "    plt.xlabel('alpha')\n",
    "    plt.ylabel('estimation')\n",
    "    plt.title('Ridge coefficients as a function of the regularization')\n",
    "    plt.axis('tight')\n",
    "    plt.show()"
   ]
  },
  {
   "cell_type": "code",
   "execution_count": 13,
   "metadata": {
    "collapsed": false
   },
   "outputs": [
    {
     "data": {
      "image/png": "[encoded data removed]",
      "text/plain": [
       "<matplotlib.figure.Figure at 0x7efbc8625e10>"
      ]
     },
     "metadata": {},
     "output_type": "display_data"
    },
    {
     "data": {
      "image/png": "[encoded data removed]",
      "text/plain": [
       "<matplotlib.figure.Figure at 0x7efbb590bba8>"
      ]
     },
     "metadata": {},
     "output_type": "display_data"
    }
   ],
   "source": [
    "graph(np.arange(0., 100.1, .1))\n",
    "graph(np.arange(0., 100000., 10))"
   ]
  },
  {
   "cell_type": "markdown",
   "metadata": {},
   "source": [
    "### С увеличением параметра alpha оценка коэффициентов стремится к 0"
   ]
  }
 ],
 "metadata": {
  "kernelspec": {
   "display_name": "Python [default]",
   "language": "python",
   "name": "python3"
  },
  "language_info": {
   "codemirror_mode": {
    "name": "ipython",
    "version": 3
   },
   "file_extension": ".py",
   "mimetype": "text/x-python",
   "name": "python",
   "nbconvert_exporter": "python",
   "pygments_lexer": "ipython3",
   "version": "3.5.2"
  }
 },
 "nbformat": 4,
 "nbformat_minor": 2
}
