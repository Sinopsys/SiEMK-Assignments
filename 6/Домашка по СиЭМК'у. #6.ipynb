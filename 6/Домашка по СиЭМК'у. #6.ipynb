{
 "cells": [
  {
   "cell_type": "markdown",
   "metadata": {
    "collapsed": true
   },
   "source": [
    "<center>\n",
    "\n",
    "# Домашнее задание по Статистическим и Эмпирическим Методам Компьютинга\n",
    "\n",
    "### Подготовил Куприянов Кирилл Игоревич, студент гр. БПИ 151(1)\n",
    "\n",
    "### ВАРИАНТ 7\n",
    "\n",
    "</center> Задание 6"
   ]
  },
  {
   "cell_type": "markdown",
   "metadata": {},
   "source": [
    "Подключаем необходимые библиотеки"
   ]
  },
  {
   "cell_type": "code",
   "execution_count": 25,
   "metadata": {
    "collapsed": false
   },
   "outputs": [
    {
     "name": "stdout",
     "output_type": "stream",
     "text": [
      "Populating the interactive namespace from numpy and matplotlib\n"
     ]
    }
   ],
   "source": [
    "import pandas as pd\n",
    "import numpy as np\n",
    "import statsmodels.formula.api as sm\n",
    "import matplotlib.pyplot as plt\n",
    "from sklearn.cluster import KMeans\n",
    "%pylab inline"
   ]
  },
  {
   "cell_type": "markdown",
   "metadata": {},
   "source": [
    "Читаем данные из файла"
   ]
  },
  {
   "cell_type": "code",
   "execution_count": 47,
   "metadata": {
    "collapsed": false
   },
   "outputs": [
    {
     "data": {
      "text/html": [
       "<div>\n",
       "<table border=\"1\" class=\"dataframe\">\n",
       "  <thead>\n",
       "    <tr style=\"text-align: right;\">\n",
       "      <th></th>\n",
       "      <th>class1_v1</th>\n",
       "      <th>class2_v1</th>\n",
       "      <th>class3_v1</th>\n",
       "      <th>sex_v1</th>\n",
       "      <th>survived_v1</th>\n",
       "      <th>class1_v2</th>\n",
       "      <th>class2_v2</th>\n",
       "      <th>class3_v2</th>\n",
       "      <th>sex_v2</th>\n",
       "      <th>survived_v2</th>\n",
       "      <th>...</th>\n",
       "      <th>class1_v9</th>\n",
       "      <th>class2_v9</th>\n",
       "      <th>class3_v9</th>\n",
       "      <th>sex_v9</th>\n",
       "      <th>survived_v9</th>\n",
       "      <th>class1_v10</th>\n",
       "      <th>class2_v10</th>\n",
       "      <th>class3_v10</th>\n",
       "      <th>sex_v10</th>\n",
       "      <th>survived_v10</th>\n",
       "    </tr>\n",
       "  </thead>\n",
       "  <tbody>\n",
       "    <tr>\n",
       "      <th>0</th>\n",
       "      <td>NaN</td>\n",
       "      <td>NaN</td>\n",
       "      <td>NaN</td>\n",
       "      <td>NaN</td>\n",
       "      <td>NaN</td>\n",
       "      <td>NaN</td>\n",
       "      <td>NaN</td>\n",
       "      <td>NaN</td>\n",
       "      <td>NaN</td>\n",
       "      <td>NaN</td>\n",
       "      <td>...</td>\n",
       "      <td>0.0</td>\n",
       "      <td>1.0</td>\n",
       "      <td>0.0</td>\n",
       "      <td>1.0</td>\n",
       "      <td>0.0</td>\n",
       "      <td>NaN</td>\n",
       "      <td>NaN</td>\n",
       "      <td>NaN</td>\n",
       "      <td>NaN</td>\n",
       "      <td>NaN</td>\n",
       "    </tr>\n",
       "    <tr>\n",
       "      <th>1</th>\n",
       "      <td>0.0</td>\n",
       "      <td>1.0</td>\n",
       "      <td>0.0</td>\n",
       "      <td>1.0</td>\n",
       "      <td>0.0</td>\n",
       "      <td>1.0</td>\n",
       "      <td>0.0</td>\n",
       "      <td>0.0</td>\n",
       "      <td>1.0</td>\n",
       "      <td>0.0</td>\n",
       "      <td>...</td>\n",
       "      <td>NaN</td>\n",
       "      <td>NaN</td>\n",
       "      <td>NaN</td>\n",
       "      <td>NaN</td>\n",
       "      <td>NaN</td>\n",
       "      <td>0.0</td>\n",
       "      <td>0.0</td>\n",
       "      <td>1.0</td>\n",
       "      <td>1.0</td>\n",
       "      <td>0.0</td>\n",
       "    </tr>\n",
       "    <tr>\n",
       "      <th>2</th>\n",
       "      <td>1.0</td>\n",
       "      <td>0.0</td>\n",
       "      <td>0.0</td>\n",
       "      <td>0.0</td>\n",
       "      <td>1.0</td>\n",
       "      <td>0.0</td>\n",
       "      <td>0.0</td>\n",
       "      <td>1.0</td>\n",
       "      <td>1.0</td>\n",
       "      <td>0.0</td>\n",
       "      <td>...</td>\n",
       "      <td>1.0</td>\n",
       "      <td>0.0</td>\n",
       "      <td>0.0</td>\n",
       "      <td>1.0</td>\n",
       "      <td>0.0</td>\n",
       "      <td>1.0</td>\n",
       "      <td>0.0</td>\n",
       "      <td>0.0</td>\n",
       "      <td>1.0</td>\n",
       "      <td>1.0</td>\n",
       "    </tr>\n",
       "    <tr>\n",
       "      <th>3</th>\n",
       "      <td>0.0</td>\n",
       "      <td>0.0</td>\n",
       "      <td>1.0</td>\n",
       "      <td>1.0</td>\n",
       "      <td>0.0</td>\n",
       "      <td>1.0</td>\n",
       "      <td>0.0</td>\n",
       "      <td>0.0</td>\n",
       "      <td>0.0</td>\n",
       "      <td>1.0</td>\n",
       "      <td>...</td>\n",
       "      <td>0.0</td>\n",
       "      <td>0.0</td>\n",
       "      <td>1.0</td>\n",
       "      <td>1.0</td>\n",
       "      <td>0.0</td>\n",
       "      <td>1.0</td>\n",
       "      <td>0.0</td>\n",
       "      <td>0.0</td>\n",
       "      <td>1.0</td>\n",
       "      <td>1.0</td>\n",
       "    </tr>\n",
       "    <tr>\n",
       "      <th>4</th>\n",
       "      <td>1.0</td>\n",
       "      <td>0.0</td>\n",
       "      <td>0.0</td>\n",
       "      <td>1.0</td>\n",
       "      <td>0.0</td>\n",
       "      <td>0.0</td>\n",
       "      <td>0.0</td>\n",
       "      <td>1.0</td>\n",
       "      <td>1.0</td>\n",
       "      <td>0.0</td>\n",
       "      <td>...</td>\n",
       "      <td>1.0</td>\n",
       "      <td>0.0</td>\n",
       "      <td>0.0</td>\n",
       "      <td>0.0</td>\n",
       "      <td>1.0</td>\n",
       "      <td>1.0</td>\n",
       "      <td>0.0</td>\n",
       "      <td>0.0</td>\n",
       "      <td>1.0</td>\n",
       "      <td>1.0</td>\n",
       "    </tr>\n",
       "  </tbody>\n",
       "</table>\n",
       "<p>5 rows × 50 columns</p>\n",
       "</div>"
      ],
      "text/plain": [
       "   class1_v1  class2_v1  class3_v1  sex_v1  survived_v1  class1_v2  class2_v2  \\\n",
       "0        NaN        NaN        NaN     NaN          NaN        NaN        NaN   \n",
       "1        0.0        1.0        0.0     1.0          0.0        1.0        0.0   \n",
       "2        1.0        0.0        0.0     0.0          1.0        0.0        0.0   \n",
       "3        0.0        0.0        1.0     1.0          0.0        1.0        0.0   \n",
       "4        1.0        0.0        0.0     1.0          0.0        0.0        0.0   \n",
       "\n",
       "   class3_v2  sex_v2  survived_v2      ...       class1_v9  class2_v9  \\\n",
       "0        NaN     NaN          NaN      ...             0.0        1.0   \n",
       "1        0.0     1.0          0.0      ...             NaN        NaN   \n",
       "2        1.0     1.0          0.0      ...             1.0        0.0   \n",
       "3        0.0     0.0          1.0      ...             0.0        0.0   \n",
       "4        1.0     1.0          0.0      ...             1.0        0.0   \n",
       "\n",
       "   class3_v9  sex_v9  survived_v9  class1_v10  class2_v10  class3_v10  \\\n",
       "0        0.0     1.0          0.0         NaN         NaN         NaN   \n",
       "1        NaN     NaN          NaN         0.0         0.0         1.0   \n",
       "2        0.0     1.0          0.0         1.0         0.0         0.0   \n",
       "3        1.0     1.0          0.0         1.0         0.0         0.0   \n",
       "4        0.0     0.0          1.0         1.0         0.0         0.0   \n",
       "\n",
       "   sex_v10  survived_v10  \n",
       "0      NaN           NaN  \n",
       "1      1.0           0.0  \n",
       "2      1.0           1.0  \n",
       "3      1.0           1.0  \n",
       "4      1.0           1.0  \n",
       "\n",
       "[5 rows x 50 columns]"
      ]
     },
     "execution_count": 47,
     "metadata": {},
     "output_type": "execute_result"
    }
   ],
   "source": [
    "df = pd.read_stata('titanic10_short.dta')\n",
    "df.head()"
   ]
  },
  {
   "cell_type": "code",
   "execution_count": 48,
   "metadata": {
    "collapsed": false
   },
   "outputs": [
    {
     "data": {
      "text/plain": [
       "Index(['class1_v1', 'class2_v1', 'class3_v1', 'sex_v1', 'survived_v1',\n",
       "       'class1_v2', 'class2_v2', 'class3_v2', 'sex_v2', 'survived_v2',\n",
       "       'class1_v3', 'class2_v3', 'class3_v3', 'sex_v3', 'survived_v3',\n",
       "       'class1_v4', 'class2_v4', 'class3_v4', 'sex_v4', 'survived_v4',\n",
       "       'class1_v5', 'class2_v5', 'class3_v5', 'sex_v5', 'survived_v5',\n",
       "       'class1_v6', 'class2_v6', 'class3_v6', 'sex_v6', 'survived_v6',\n",
       "       'class1_v7', 'class2_v7', 'class3_v7', 'sex_v7', 'survived_v7',\n",
       "       'class1_v8', 'class2_v8', 'class3_v8', 'sex_v8', 'survived_v8',\n",
       "       'class1_v9', 'class2_v9', 'class3_v9', 'sex_v9', 'survived_v9',\n",
       "       'class1_v10', 'class2_v10', 'class3_v10', 'sex_v10', 'survived_v10'],\n",
       "      dtype='object')"
      ]
     },
     "execution_count": 48,
     "metadata": {},
     "output_type": "execute_result"
    }
   ],
   "source": [
    "df.columns"
   ]
  },
  {
   "cell_type": "code",
   "execution_count": 49,
   "metadata": {
    "collapsed": false
   },
   "outputs": [],
   "source": [
    "for c in df.columns:\n",
    "    if not c.endswith('v7'):\n",
    "        del df[c]"
   ]
  },
  {
   "cell_type": "code",
   "execution_count": 50,
   "metadata": {
    "collapsed": false
   },
   "outputs": [
    {
     "data": {
      "text/html": [
       "<div>\n",
       "<table border=\"1\" class=\"dataframe\">\n",
       "  <thead>\n",
       "    <tr style=\"text-align: right;\">\n",
       "      <th></th>\n",
       "      <th>class1</th>\n",
       "      <th>class2</th>\n",
       "      <th>class3</th>\n",
       "      <th>sex</th>\n",
       "      <th>survived</th>\n",
       "    </tr>\n",
       "  </thead>\n",
       "  <tbody>\n",
       "    <tr>\n",
       "      <th>0</th>\n",
       "      <td>0.0</td>\n",
       "      <td>1.0</td>\n",
       "      <td>0.0</td>\n",
       "      <td>1.0</td>\n",
       "      <td>0.0</td>\n",
       "    </tr>\n",
       "    <tr>\n",
       "      <th>1</th>\n",
       "      <td>1.0</td>\n",
       "      <td>0.0</td>\n",
       "      <td>0.0</td>\n",
       "      <td>0.0</td>\n",
       "      <td>1.0</td>\n",
       "    </tr>\n",
       "    <tr>\n",
       "      <th>2</th>\n",
       "      <td>0.0</td>\n",
       "      <td>0.0</td>\n",
       "      <td>1.0</td>\n",
       "      <td>1.0</td>\n",
       "      <td>1.0</td>\n",
       "    </tr>\n",
       "    <tr>\n",
       "      <th>3</th>\n",
       "      <td>0.0</td>\n",
       "      <td>0.0</td>\n",
       "      <td>1.0</td>\n",
       "      <td>1.0</td>\n",
       "      <td>0.0</td>\n",
       "    </tr>\n",
       "    <tr>\n",
       "      <th>4</th>\n",
       "      <td>0.0</td>\n",
       "      <td>0.0</td>\n",
       "      <td>1.0</td>\n",
       "      <td>1.0</td>\n",
       "      <td>0.0</td>\n",
       "    </tr>\n",
       "  </tbody>\n",
       "</table>\n",
       "</div>"
      ],
      "text/plain": [
       "   class1  class2  class3  sex  survived\n",
       "0     0.0     1.0     0.0  1.0       0.0\n",
       "1     1.0     0.0     0.0  0.0       1.0\n",
       "2     0.0     0.0     1.0  1.0       1.0\n",
       "3     0.0     0.0     1.0  1.0       0.0\n",
       "4     0.0     0.0     1.0  1.0       0.0"
      ]
     },
     "execution_count": 50,
     "metadata": {},
     "output_type": "execute_result"
    }
   ],
   "source": [
    "df.columns = [x[:-3] for x in df.columns]\n",
    "df.head()"
   ]
  },
  {
   "cell_type": "markdown",
   "metadata": {},
   "source": [
    "Очищаем данные от пропусков"
   ]
  },
  {
   "cell_type": "code",
   "execution_count": 53,
   "metadata": {
    "collapsed": false
   },
   "outputs": [],
   "source": [
    "df.dropna(inplace=1)"
   ]
  },
  {
   "cell_type": "markdown",
   "metadata": {},
   "source": [
    "LOGIT model"
   ]
  },
  {
   "cell_type": "code",
   "execution_count": 60,
   "metadata": {
    "collapsed": false
   },
   "outputs": [
    {
     "name": "stdout",
     "output_type": "stream",
     "text": [
      "Optimization terminated successfully.\n",
      "         Current function value: 0.470397\n",
      "         Iterations 6\n"
     ]
    },
    {
     "data": {
      "text/html": [
       "<table class=\"simpletable\">\n",
       "<caption>Logit Regression Results</caption>\n",
       "<tr>\n",
       "  <th>Dep. Variable:</th>     <td>survived</td>     <th>  No. Observations:  </th>  <td>  1141</td>  \n",
       "</tr>\n",
       "<tr>\n",
       "  <th>Model:</th>               <td>Logit</td>      <th>  Df Residuals:      </th>  <td>  1137</td>  \n",
       "</tr>\n",
       "<tr>\n",
       "  <th>Method:</th>               <td>MLE</td>       <th>  Df Model:          </th>  <td>     3</td>  \n",
       "</tr>\n",
       "<tr>\n",
       "  <th>Date:</th>          <td>Wed, 31 May 2017</td> <th>  Pseudo R-squ.:     </th>  <td>0.2850</td>  \n",
       "</tr>\n",
       "<tr>\n",
       "  <th>Time:</th>              <td>00:07:18</td>     <th>  Log-Likelihood:    </th> <td> -536.72</td> \n",
       "</tr>\n",
       "<tr>\n",
       "  <th>converged:</th>           <td>True</td>       <th>  LL-Null:           </th> <td> -750.70</td> \n",
       "</tr>\n",
       "<tr>\n",
       "  <th> </th>                      <td> </td>        <th>  LLR p-value:       </th> <td>1.940e-92</td>\n",
       "</tr>\n",
       "</table>\n",
       "<table class=\"simpletable\">\n",
       "<tr>\n",
       "      <td></td>         <th>coef</th>     <th>std err</th>      <th>z</th>      <th>P>|z|</th> <th>[95.0% Conf. Int.]</th> \n",
       "</tr>\n",
       "<tr>\n",
       "  <th>Intercept</th> <td>    0.4392</td> <td>    0.138</td> <td>    3.184</td> <td> 0.001</td> <td>    0.169     0.710</td>\n",
       "</tr>\n",
       "<tr>\n",
       "  <th>sex</th>       <td>   -2.5394</td> <td>    0.159</td> <td>  -15.989</td> <td> 0.000</td> <td>   -2.851    -2.228</td>\n",
       "</tr>\n",
       "<tr>\n",
       "  <th>class1</th>    <td>    1.7021</td> <td>    0.182</td> <td>    9.365</td> <td> 0.000</td> <td>    1.346     2.058</td>\n",
       "</tr>\n",
       "<tr>\n",
       "  <th>class2</th>    <td>    0.4554</td> <td>    0.194</td> <td>    2.341</td> <td> 0.019</td> <td>    0.074     0.837</td>\n",
       "</tr>\n",
       "</table>"
      ],
      "text/plain": [
       "<class 'statsmodels.iolib.summary.Summary'>\n",
       "\"\"\"\n",
       "                           Logit Regression Results                           \n",
       "==============================================================================\n",
       "Dep. Variable:               survived   No. Observations:                 1141\n",
       "Model:                          Logit   Df Residuals:                     1137\n",
       "Method:                           MLE   Df Model:                            3\n",
       "Date:                Wed, 31 May 2017   Pseudo R-squ.:                  0.2850\n",
       "Time:                        00:07:18   Log-Likelihood:                -536.72\n",
       "converged:                       True   LL-Null:                       -750.70\n",
       "                                        LLR p-value:                 1.940e-92\n",
       "==============================================================================\n",
       "                 coef    std err          z      P>|z|      [95.0% Conf. Int.]\n",
       "------------------------------------------------------------------------------\n",
       "Intercept      0.4392      0.138      3.184      0.001         0.169     0.710\n",
       "sex           -2.5394      0.159    -15.989      0.000        -2.851    -2.228\n",
       "class1         1.7021      0.182      9.365      0.000         1.346     2.058\n",
       "class2         0.4554      0.194      2.341      0.019         0.074     0.837\n",
       "==============================================================================\n",
       "\"\"\""
      ]
     },
     "execution_count": 60,
     "metadata": {},
     "output_type": "execute_result"
    }
   ],
   "source": [
    "logit_res = sm.logit('survived ~ sex + class1 + class2', df).fit()\n",
    "logit_res.summary()"
   ]
  },
  {
   "cell_type": "markdown",
   "metadata": {},
   "source": [
    "PROBIT model"
   ]
  },
  {
   "cell_type": "code",
   "execution_count": 61,
   "metadata": {
    "collapsed": false
   },
   "outputs": [
    {
     "name": "stdout",
     "output_type": "stream",
     "text": [
      "Optimization terminated successfully.\n",
      "         Current function value: 0.470926\n",
      "         Iterations 5\n"
     ]
    },
    {
     "data": {
      "text/html": [
       "<table class=\"simpletable\">\n",
       "<caption>Probit Regression Results</caption>\n",
       "<tr>\n",
       "  <th>Dep. Variable:</th>     <td>survived</td>     <th>  No. Observations:  </th>  <td>  1141</td>  \n",
       "</tr>\n",
       "<tr>\n",
       "  <th>Model:</th>              <td>Probit</td>      <th>  Df Residuals:      </th>  <td>  1137</td>  \n",
       "</tr>\n",
       "<tr>\n",
       "  <th>Method:</th>               <td>MLE</td>       <th>  Df Model:          </th>  <td>     3</td>  \n",
       "</tr>\n",
       "<tr>\n",
       "  <th>Date:</th>          <td>Wed, 31 May 2017</td> <th>  Pseudo R-squ.:     </th>  <td>0.2842</td>  \n",
       "</tr>\n",
       "<tr>\n",
       "  <th>Time:</th>              <td>00:08:51</td>     <th>  Log-Likelihood:    </th> <td> -537.33</td> \n",
       "</tr>\n",
       "<tr>\n",
       "  <th>converged:</th>           <td>True</td>       <th>  LL-Null:           </th> <td> -750.70</td> \n",
       "</tr>\n",
       "<tr>\n",
       "  <th> </th>                      <td> </td>        <th>  LLR p-value:       </th> <td>3.540e-92</td>\n",
       "</tr>\n",
       "</table>\n",
       "<table class=\"simpletable\">\n",
       "<tr>\n",
       "      <td></td>         <th>coef</th>     <th>std err</th>      <th>z</th>      <th>P>|z|</th> <th>[95.0% Conf. Int.]</th> \n",
       "</tr>\n",
       "<tr>\n",
       "  <th>Intercept</th> <td>    0.3109</td> <td>    0.082</td> <td>    3.770</td> <td> 0.000</td> <td>    0.149     0.473</td>\n",
       "</tr>\n",
       "<tr>\n",
       "  <th>sex</th>       <td>   -1.5206</td> <td>    0.091</td> <td>  -16.709</td> <td> 0.000</td> <td>   -1.699    -1.342</td>\n",
       "</tr>\n",
       "<tr>\n",
       "  <th>class1</th>    <td>    0.9786</td> <td>    0.104</td> <td>    9.418</td> <td> 0.000</td> <td>    0.775     1.182</td>\n",
       "</tr>\n",
       "<tr>\n",
       "  <th>class2</th>    <td>    0.2120</td> <td>    0.113</td> <td>    1.875</td> <td> 0.061</td> <td>   -0.010     0.434</td>\n",
       "</tr>\n",
       "</table>"
      ],
      "text/plain": [
       "<class 'statsmodels.iolib.summary.Summary'>\n",
       "\"\"\"\n",
       "                          Probit Regression Results                           \n",
       "==============================================================================\n",
       "Dep. Variable:               survived   No. Observations:                 1141\n",
       "Model:                         Probit   Df Residuals:                     1137\n",
       "Method:                           MLE   Df Model:                            3\n",
       "Date:                Wed, 31 May 2017   Pseudo R-squ.:                  0.2842\n",
       "Time:                        00:08:51   Log-Likelihood:                -537.33\n",
       "converged:                       True   LL-Null:                       -750.70\n",
       "                                        LLR p-value:                 3.540e-92\n",
       "==============================================================================\n",
       "                 coef    std err          z      P>|z|      [95.0% Conf. Int.]\n",
       "------------------------------------------------------------------------------\n",
       "Intercept      0.3109      0.082      3.770      0.000         0.149     0.473\n",
       "sex           -1.5206      0.091    -16.709      0.000        -1.699    -1.342\n",
       "class1         0.9786      0.104      9.418      0.000         0.775     1.182\n",
       "class2         0.2120      0.113      1.875      0.061        -0.010     0.434\n",
       "==============================================================================\n",
       "\"\"\""
      ]
     },
     "execution_count": 61,
     "metadata": {},
     "output_type": "execute_result"
    }
   ],
   "source": [
    "probit_res = sm.probit('survived ~ sex + class1 + class2', df).fit()\n",
    "probit_res.summary()"
   ]
  },
  {
   "cell_type": "markdown",
   "metadata": {},
   "source": []
  },
  {
   "cell_type": "markdown",
   "metadata": {},
   "source": [
    "OLS model"
   ]
  },
  {
   "cell_type": "code",
   "execution_count": 63,
   "metadata": {
    "collapsed": false
   },
   "outputs": [
    {
     "data": {
      "text/html": [
       "<table class=\"simpletable\">\n",
       "<caption>OLS Regression Results</caption>\n",
       "<tr>\n",
       "  <th>Dep. Variable:</th>        <td>survived</td>     <th>  R-squared:         </th> <td>   0.350</td> \n",
       "</tr>\n",
       "<tr>\n",
       "  <th>Model:</th>                   <td>OLS</td>       <th>  Adj. R-squared:    </th> <td>   0.348</td> \n",
       "</tr>\n",
       "<tr>\n",
       "  <th>Method:</th>             <td>Least Squares</td>  <th>  F-statistic:       </th> <td>   204.0</td> \n",
       "</tr>\n",
       "<tr>\n",
       "  <th>Date:</th>             <td>Wed, 31 May 2017</td> <th>  Prob (F-statistic):</th> <td>7.45e-106</td>\n",
       "</tr>\n",
       "<tr>\n",
       "  <th>Time:</th>                 <td>00:09:20</td>     <th>  Log-Likelihood:    </th> <td> -541.28</td> \n",
       "</tr>\n",
       "<tr>\n",
       "  <th>No. Observations:</th>      <td>  1141</td>      <th>  AIC:               </th> <td>   1091.</td> \n",
       "</tr>\n",
       "<tr>\n",
       "  <th>Df Residuals:</th>          <td>  1137</td>      <th>  BIC:               </th> <td>   1111.</td> \n",
       "</tr>\n",
       "<tr>\n",
       "  <th>Df Model:</th>              <td>     3</td>      <th>                     </th>     <td> </td>    \n",
       "</tr>\n",
       "<tr>\n",
       "  <th>Covariance Type:</th>      <td>nonrobust</td>    <th>                     </th>     <td> </td>    \n",
       "</tr>\n",
       "</table>\n",
       "<table class=\"simpletable\">\n",
       "<tr>\n",
       "      <td></td>         <th>coef</th>     <th>std err</th>      <th>t</th>      <th>P>|t|</th> <th>[95.0% Conf. Int.]</th> \n",
       "</tr>\n",
       "<tr>\n",
       "  <th>Intercept</th> <td>    0.6148</td> <td>    0.024</td> <td>   25.678</td> <td> 0.000</td> <td>    0.568     0.662</td>\n",
       "</tr>\n",
       "<tr>\n",
       "  <th>sex</th>       <td>   -0.5083</td> <td>    0.025</td> <td>  -20.587</td> <td> 0.000</td> <td>   -0.557    -0.460</td>\n",
       "</tr>\n",
       "<tr>\n",
       "  <th>class1</th>    <td>    0.2884</td> <td>    0.028</td> <td>   10.298</td> <td> 0.000</td> <td>    0.233     0.343</td>\n",
       "</tr>\n",
       "<tr>\n",
       "  <th>class2</th>    <td>    0.0695</td> <td>    0.030</td> <td>    2.342</td> <td> 0.019</td> <td>    0.011     0.128</td>\n",
       "</tr>\n",
       "</table>\n",
       "<table class=\"simpletable\">\n",
       "<tr>\n",
       "  <th>Omnibus:</th>       <td>63.909</td> <th>  Durbin-Watson:     </th> <td>   1.750</td>\n",
       "</tr>\n",
       "<tr>\n",
       "  <th>Prob(Omnibus):</th> <td> 0.000</td> <th>  Jarque-Bera (JB):  </th> <td>  73.661</td>\n",
       "</tr>\n",
       "<tr>\n",
       "  <th>Skew:</th>          <td> 0.620</td> <th>  Prob(JB):          </th> <td>1.01e-16</td>\n",
       "</tr>\n",
       "<tr>\n",
       "  <th>Kurtosis:</th>      <td> 3.118</td> <th>  Cond. No.          </th> <td>    4.24</td>\n",
       "</tr>\n",
       "</table>"
      ],
      "text/plain": [
       "<class 'statsmodels.iolib.summary.Summary'>\n",
       "\"\"\"\n",
       "                            OLS Regression Results                            \n",
       "==============================================================================\n",
       "Dep. Variable:               survived   R-squared:                       0.350\n",
       "Model:                            OLS   Adj. R-squared:                  0.348\n",
       "Method:                 Least Squares   F-statistic:                     204.0\n",
       "Date:                Wed, 31 May 2017   Prob (F-statistic):          7.45e-106\n",
       "Time:                        00:09:20   Log-Likelihood:                -541.28\n",
       "No. Observations:                1141   AIC:                             1091.\n",
       "Df Residuals:                    1137   BIC:                             1111.\n",
       "Df Model:                           3                                         \n",
       "Covariance Type:            nonrobust                                         \n",
       "==============================================================================\n",
       "                 coef    std err          t      P>|t|      [95.0% Conf. Int.]\n",
       "------------------------------------------------------------------------------\n",
       "Intercept      0.6148      0.024     25.678      0.000         0.568     0.662\n",
       "sex           -0.5083      0.025    -20.587      0.000        -0.557    -0.460\n",
       "class1         0.2884      0.028     10.298      0.000         0.233     0.343\n",
       "class2         0.0695      0.030      2.342      0.019         0.011     0.128\n",
       "==============================================================================\n",
       "Omnibus:                       63.909   Durbin-Watson:                   1.750\n",
       "Prob(Omnibus):                  0.000   Jarque-Bera (JB):               73.661\n",
       "Skew:                           0.620   Prob(JB):                     1.01e-16\n",
       "Kurtosis:                       3.118   Cond. No.                         4.24\n",
       "==============================================================================\n",
       "\n",
       "Warnings:\n",
       "[1] Standard Errors assume that the covariance matrix of the errors is correctly specified.\n",
       "\"\"\""
      ]
     },
     "execution_count": 63,
     "metadata": {},
     "output_type": "execute_result"
    }
   ],
   "source": [
    "ols_res = sm.ols('survived ~ sex + class1 + class2', df).fit()\n",
    "ols_res.summary()"
   ]
  },
  {
   "cell_type": "code",
   "execution_count": null,
   "metadata": {
    "collapsed": true
   },
   "outputs": [],
   "source": []
  }
 ],
 "metadata": {
  "anaconda-cloud": {},
  "kernelspec": {
   "display_name": "Python [conda root]",
   "language": "python",
   "name": "conda-root-py"
  },
  "language_info": {
   "codemirror_mode": {
    "name": "ipython",
    "version": 3
   },
   "file_extension": ".py",
   "mimetype": "text/x-python",
   "name": "python",
   "nbconvert_exporter": "python",
   "pygments_lexer": "ipython3",
   "version": "3.5.2"
  }
 },
 "nbformat": 4,
 "nbformat_minor": 1
}
