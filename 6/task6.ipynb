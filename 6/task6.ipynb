{
 "cells": [
  {
   "cell_type": "code",
   "execution_count": 8,
   "metadata": {
    "collapsed": false
   },
   "outputs": [],
   "source": [
    "import pandas as pd\n",
    "import statsmodels.formula.api as sm\n",
    "import numpy as np\n",
    "from scipy import stats"
   ]
  },
  {
   "cell_type": "code",
   "execution_count": 9,
   "metadata": {
    "collapsed": true
   },
   "outputs": [],
   "source": [
    "df = pd.read_stata('titanic10_short.dta')"
   ]
  },
  {
   "cell_type": "code",
   "execution_count": 10,
   "metadata": {
    "collapsed": false
   },
   "outputs": [],
   "source": [
    "for c in df.columns:\n",
    "    if not c.endswith('7'):\n",
    "        del df[c]\n",
    "df = df.rename(index=str, columns={\"class1_v7\": \"class1\", \"class2_v7\": \"class2\", \"class3_v7\": \"class3\", \"sex_v7\": \"sex\", \"survived_v7\": \"survived\"})"
   ]
  },
  {
   "cell_type": "code",
   "execution_count": 11,
   "metadata": {
    "collapsed": true
   },
   "outputs": [],
   "source": [
    "pd.set_option('display.max_rows', 10)"
   ]
  },
  {
   "cell_type": "code",
   "execution_count": 12,
   "metadata": {
    "collapsed": false
   },
   "outputs": [
    {
     "data": {
      "text/plain": [
       "<bound method NDFrame.head of       class1  class2  class3  sex  survived\n",
       "0        0.0     1.0     0.0  1.0       0.0\n",
       "1        1.0     0.0     0.0  0.0       1.0\n",
       "2        0.0     0.0     1.0  1.0       1.0\n",
       "3        0.0     0.0     1.0  1.0       0.0\n",
       "4        0.0     0.0     1.0  1.0       0.0\n",
       "...      ...     ...     ...  ...       ...\n",
       "1995     NaN     NaN     NaN  NaN       NaN\n",
       "1996     NaN     NaN     NaN  NaN       NaN\n",
       "1997     0.0     1.0     0.0  1.0       0.0\n",
       "1998     NaN     NaN     NaN  NaN       NaN\n",
       "1999     NaN     NaN     NaN  NaN       NaN\n",
       "\n",
       "[2000 rows x 5 columns]>"
      ]
     },
     "execution_count": 12,
     "metadata": {},
     "output_type": "execute_result"
    }
   ],
   "source": [
    "df.head"
   ]
  },
  {
   "cell_type": "code",
   "execution_count": 13,
   "metadata": {
    "collapsed": false
   },
   "outputs": [],
   "source": [
    "df.dropna(inplace=True, how='any')"
   ]
  },
  {
   "cell_type": "code",
   "execution_count": 14,
   "metadata": {
    "collapsed": false
   },
   "outputs": [
    {
     "data": {
      "text/plain": [
       "<bound method NDFrame.head of       class1  class2  class3  sex  survived\n",
       "0        0.0     1.0     0.0  1.0       0.0\n",
       "1        1.0     0.0     0.0  0.0       1.0\n",
       "2        0.0     0.0     1.0  1.0       1.0\n",
       "3        0.0     0.0     1.0  1.0       0.0\n",
       "4        0.0     0.0     1.0  1.0       0.0\n",
       "...      ...     ...     ...  ...       ...\n",
       "1975     0.0     0.0     1.0  1.0       1.0\n",
       "1978     1.0     0.0     0.0  0.0       1.0\n",
       "1983     0.0     0.0     1.0  1.0       0.0\n",
       "1992     0.0     0.0     1.0  1.0       1.0\n",
       "1997     0.0     1.0     0.0  1.0       0.0\n",
       "\n",
       "[1141 rows x 5 columns]>"
      ]
     },
     "execution_count": 14,
     "metadata": {},
     "output_type": "execute_result"
    }
   ],
   "source": [
    "df.head"
   ]
  },
  {
   "cell_type": "markdown",
   "metadata": {},
   "source": [
    "Модель **Логит**"
   ]
  },
  {
   "cell_type": "code",
   "execution_count": 15,
   "metadata": {
    "collapsed": false
   },
   "outputs": [
    {
     "name": "stdout",
     "output_type": "stream",
     "text": [
      "Optimization terminated successfully.\n",
      "         Current function value: 0.470397\n",
      "         Iterations 6\n",
      "                           Logit Regression Results                           \n",
      "==============================================================================\n",
      "Dep. Variable:               survived   No. Observations:                 1141\n",
      "Model:                          Logit   Df Residuals:                     1137\n",
      "Method:                           MLE   Df Model:                            3\n",
      "Date:                Wed, 31 May 2017   Pseudo R-squ.:                  0.2850\n",
      "Time:                        00:02:54   Log-Likelihood:                -536.72\n",
      "converged:                       True   LL-Null:                       -750.70\n",
      "                                        LLR p-value:                 1.940e-92\n",
      "==============================================================================\n",
      "                 coef    std err          z      P>|z|      [95.0% Conf. Int.]\n",
      "------------------------------------------------------------------------------\n",
      "Intercept      0.4392      0.138      3.184      0.001         0.169     0.710\n",
      "sex           -2.5394      0.159    -15.989      0.000        -2.851    -2.228\n",
      "class1         1.7021      0.182      9.365      0.000         1.346     2.058\n",
      "class2         0.4554      0.194      2.341      0.019         0.074     0.837\n",
      "==============================================================================\n"
     ]
    }
   ],
   "source": [
    "logit_res = sm.logit('survived ~ sex + class1 + class2', df).fit()\n",
    "print(logit_res.summary())"
   ]
  },
  {
   "cell_type": "markdown",
   "metadata": {},
   "source": [
    "Модель **Пробит**"
   ]
  },
  {
   "cell_type": "code",
   "execution_count": 76,
   "metadata": {
    "collapsed": false
   },
   "outputs": [
    {
     "name": "stdout",
     "output_type": "stream",
     "text": [
      "Optimization terminated successfully.\n",
      "         Current function value: 0.469734\n",
      "         Iterations 5\n",
      "                          Probit Regression Results                           \n",
      "==============================================================================\n",
      "Dep. Variable:               survived   No. Observations:                 1131\n",
      "Model:                         Probit   Df Residuals:                     1127\n",
      "Method:                           MLE   Df Model:                            3\n",
      "Date:                Mon, 29 May 2017   Pseudo R-squ.:                  0.2838\n",
      "Time:                        14:51:02   Log-Likelihood:                -531.27\n",
      "converged:                       True   LL-Null:                       -741.76\n",
      "                                        LLR p-value:                 6.338e-91\n",
      "==============================================================================\n",
      "                 coef    std err          z      P>|z|      [95.0% Conf. Int.]\n",
      "------------------------------------------------------------------------------\n",
      "Intercept      0.2835      0.082      3.439      0.001         0.122     0.445\n",
      "sex           -1.5190      0.091    -16.689      0.000        -1.697    -1.341\n",
      "class1         0.9567      0.104      9.167      0.000         0.752     1.161\n",
      "class2         0.2738      0.113      2.418      0.016         0.052     0.496\n",
      "==============================================================================\n"
     ]
    }
   ],
   "source": [
    "probit_res = sm.probit('survived ~ sex + class1 + class2', df).fit()\n",
    "print(probit_res.summary())"
   ]
  },
  {
   "cell_type": "markdown",
   "metadata": {},
   "source": [
    "**Линейная вероятностная** модель"
   ]
  },
  {
   "cell_type": "code",
   "execution_count": 77,
   "metadata": {
    "collapsed": false
   },
   "outputs": [
    {
     "name": "stdout",
     "output_type": "stream",
     "text": [
      "                            OLS Regression Results                            \n",
      "==============================================================================\n",
      "Dep. Variable:               survived   R-squared:                       0.349\n",
      "Model:                            OLS   Adj. R-squared:                  0.348\n",
      "Method:                 Least Squares   F-statistic:                     201.8\n",
      "Date:                Mon, 29 May 2017   Prob (F-statistic):          9.59e-105\n",
      "Time:                        14:51:03   Log-Likelihood:                -534.45\n",
      "No. Observations:                1131   AIC:                             1077.\n",
      "Df Residuals:                    1127   BIC:                             1097.\n",
      "Df Model:                           3                                         \n",
      "Covariance Type:            nonrobust                                         \n",
      "==============================================================================\n",
      "                 coef    std err          t      P>|t|      [95.0% Conf. Int.]\n",
      "------------------------------------------------------------------------------\n",
      "Intercept      0.6091      0.024     25.447      0.000         0.562     0.656\n",
      "sex           -0.5091      0.025    -20.602      0.000        -0.558    -0.461\n",
      "class1         0.2802      0.028      9.994      0.000         0.225     0.335\n",
      "class2         0.0844      0.030      2.822      0.005         0.026     0.143\n",
      "==============================================================================\n",
      "Omnibus:                       64.857   Durbin-Watson:                   1.679\n",
      "Prob(Omnibus):                  0.000   Jarque-Bera (JB):               74.910\n",
      "Skew:                           0.626   Prob(JB):                     5.41e-17\n",
      "Kurtosis:                       3.151   Cond. No.                         4.24\n",
      "==============================================================================\n",
      "\n",
      "Warnings:\n",
      "[1] Standard Errors assume that the covariance matrix of the errors is correctly specified.\n"
     ]
    }
   ],
   "source": [
    "ols_res = sm.ols('survived ~ sex + class1 + class2', df).fit()\n",
    "print(ols_res.summary())"
   ]
  },
  {
   "cell_type": "code",
   "execution_count": 78,
   "metadata": {
    "collapsed": false
   },
   "outputs": [],
   "source": [
    "df['logit'] = pd.Series(logit_res.predict(), index=df.index)\n",
    "df['probit'] = pd.Series(probit_res.predict(), index=df.index)\n",
    "df['ols'] = pd.Series(ols_res.predict(), index=df.index)"
   ]
  },
  {
   "cell_type": "code",
   "execution_count": 79,
   "metadata": {
    "collapsed": false
   },
   "outputs": [
    {
     "data": {
      "text/html": [
       "<div>\n",
       "<table border=\"1\" class=\"dataframe\">\n",
       "  <thead>\n",
       "    <tr style=\"text-align: right;\">\n",
       "      <th></th>\n",
       "      <th>class1</th>\n",
       "      <th>class2</th>\n",
       "      <th>class3</th>\n",
       "      <th>sex</th>\n",
       "      <th>survived</th>\n",
       "      <th>logit</th>\n",
       "      <th>probit</th>\n",
       "      <th>ols</th>\n",
       "    </tr>\n",
       "  </thead>\n",
       "  <tbody>\n",
       "    <tr>\n",
       "      <th>1</th>\n",
       "      <td>0.0</td>\n",
       "      <td>0.0</td>\n",
       "      <td>1.0</td>\n",
       "      <td>1.0</td>\n",
       "      <td>0.0</td>\n",
       "      <td>0.104621</td>\n",
       "      <td>0.108328</td>\n",
       "      <td>0.100003</td>\n",
       "    </tr>\n",
       "    <tr>\n",
       "      <th>2</th>\n",
       "      <td>1.0</td>\n",
       "      <td>0.0</td>\n",
       "      <td>0.0</td>\n",
       "      <td>1.0</td>\n",
       "      <td>1.0</td>\n",
       "      <td>0.382227</td>\n",
       "      <td>0.390193</td>\n",
       "      <td>0.380215</td>\n",
       "    </tr>\n",
       "    <tr>\n",
       "      <th>3</th>\n",
       "      <td>1.0</td>\n",
       "      <td>0.0</td>\n",
       "      <td>0.0</td>\n",
       "      <td>1.0</td>\n",
       "      <td>1.0</td>\n",
       "      <td>0.382227</td>\n",
       "      <td>0.390193</td>\n",
       "      <td>0.380215</td>\n",
       "    </tr>\n",
       "    <tr>\n",
       "      <th>4</th>\n",
       "      <td>1.0</td>\n",
       "      <td>0.0</td>\n",
       "      <td>0.0</td>\n",
       "      <td>1.0</td>\n",
       "      <td>1.0</td>\n",
       "      <td>0.382227</td>\n",
       "      <td>0.390193</td>\n",
       "      <td>0.380215</td>\n",
       "    </tr>\n",
       "    <tr>\n",
       "      <th>6</th>\n",
       "      <td>0.0</td>\n",
       "      <td>0.0</td>\n",
       "      <td>1.0</td>\n",
       "      <td>1.0</td>\n",
       "      <td>1.0</td>\n",
       "      <td>0.104621</td>\n",
       "      <td>0.108328</td>\n",
       "      <td>0.100003</td>\n",
       "    </tr>\n",
       "    <tr>\n",
       "      <th>...</th>\n",
       "      <td>...</td>\n",
       "      <td>...</td>\n",
       "      <td>...</td>\n",
       "      <td>...</td>\n",
       "      <td>...</td>\n",
       "      <td>...</td>\n",
       "      <td>...</td>\n",
       "      <td>...</td>\n",
       "    </tr>\n",
       "    <tr>\n",
       "      <th>1986</th>\n",
       "      <td>0.0</td>\n",
       "      <td>0.0</td>\n",
       "      <td>1.0</td>\n",
       "      <td>1.0</td>\n",
       "      <td>0.0</td>\n",
       "      <td>0.104621</td>\n",
       "      <td>0.108328</td>\n",
       "      <td>0.100003</td>\n",
       "    </tr>\n",
       "    <tr>\n",
       "      <th>1988</th>\n",
       "      <td>0.0</td>\n",
       "      <td>0.0</td>\n",
       "      <td>1.0</td>\n",
       "      <td>1.0</td>\n",
       "      <td>0.0</td>\n",
       "      <td>0.104621</td>\n",
       "      <td>0.108328</td>\n",
       "      <td>0.100003</td>\n",
       "    </tr>\n",
       "    <tr>\n",
       "      <th>1990</th>\n",
       "      <td>1.0</td>\n",
       "      <td>0.0</td>\n",
       "      <td>0.0</td>\n",
       "      <td>0.0</td>\n",
       "      <td>0.0</td>\n",
       "      <td>0.886893</td>\n",
       "      <td>0.892546</td>\n",
       "      <td>0.889296</td>\n",
       "    </tr>\n",
       "    <tr>\n",
       "      <th>1991</th>\n",
       "      <td>0.0</td>\n",
       "      <td>0.0</td>\n",
       "      <td>1.0</td>\n",
       "      <td>1.0</td>\n",
       "      <td>0.0</td>\n",
       "      <td>0.104621</td>\n",
       "      <td>0.108328</td>\n",
       "      <td>0.100003</td>\n",
       "    </tr>\n",
       "    <tr>\n",
       "      <th>1996</th>\n",
       "      <td>1.0</td>\n",
       "      <td>0.0</td>\n",
       "      <td>0.0</td>\n",
       "      <td>1.0</td>\n",
       "      <td>0.0</td>\n",
       "      <td>0.382227</td>\n",
       "      <td>0.390193</td>\n",
       "      <td>0.380215</td>\n",
       "    </tr>\n",
       "  </tbody>\n",
       "</table>\n",
       "<p>1131 rows × 8 columns</p>\n",
       "</div>"
      ],
      "text/plain": [
       "      class1  class2  class3  sex  survived     logit    probit       ols\n",
       "1        0.0     0.0     1.0  1.0       0.0  0.104621  0.108328  0.100003\n",
       "2        1.0     0.0     0.0  1.0       1.0  0.382227  0.390193  0.380215\n",
       "3        1.0     0.0     0.0  1.0       1.0  0.382227  0.390193  0.380215\n",
       "4        1.0     0.0     0.0  1.0       1.0  0.382227  0.390193  0.380215\n",
       "6        0.0     0.0     1.0  1.0       1.0  0.104621  0.108328  0.100003\n",
       "...      ...     ...     ...  ...       ...       ...       ...       ...\n",
       "1986     0.0     0.0     1.0  1.0       0.0  0.104621  0.108328  0.100003\n",
       "1988     0.0     0.0     1.0  1.0       0.0  0.104621  0.108328  0.100003\n",
       "1990     1.0     0.0     0.0  0.0       0.0  0.886893  0.892546  0.889296\n",
       "1991     0.0     0.0     1.0  1.0       0.0  0.104621  0.108328  0.100003\n",
       "1996     1.0     0.0     0.0  1.0       0.0  0.382227  0.390193  0.380215\n",
       "\n",
       "[1131 rows x 8 columns]"
      ]
     },
     "execution_count": 79,
     "metadata": {},
     "output_type": "execute_result"
    }
   ],
   "source": [
    "df"
   ]
  },
  {
   "cell_type": "markdown",
   "metadata": {},
   "source": [
    "Расширенная модель **Логит**"
   ]
  },
  {
   "cell_type": "code",
   "execution_count": 80,
   "metadata": {
    "collapsed": false
   },
   "outputs": [
    {
     "name": "stdout",
     "output_type": "stream",
     "text": [
      "Optimization terminated successfully.\n",
      "         Current function value: 0.444751\n",
      "         Iterations 7\n",
      "                           Logit Regression Results                           \n",
      "==============================================================================\n",
      "Dep. Variable:               survived   No. Observations:                 1131\n",
      "Model:                          Logit   Df Residuals:                     1125\n",
      "Method:                           MLE   Df Model:                            5\n",
      "Date:                Mon, 29 May 2017   Pseudo R-squ.:                  0.3219\n",
      "Time:                        14:51:03   Log-Likelihood:                -503.01\n",
      "converged:                       True   LL-Null:                       -741.76\n",
      "                                        LLR p-value:                5.776e-101\n",
      "==============================================================================\n",
      "                 coef    std err          z      P>|z|      [95.0% Conf. Int.]\n",
      "------------------------------------------------------------------------------\n",
      "Intercept     -0.1579      0.156     -1.011      0.312        -0.464     0.148\n",
      "sex           -1.5280      0.205     -7.471      0.000        -1.929    -1.127\n",
      "class1         3.6391      0.531      6.852      0.000         2.598     4.680\n",
      "class2         1.8970      0.339      5.598      0.000         1.233     2.561\n",
      "sex:class1    -2.7417      0.573     -4.783      0.000        -3.865    -1.618\n",
      "sex:class2    -2.4848      0.459     -5.409      0.000        -3.385    -1.584\n",
      "==============================================================================\n"
     ]
    }
   ],
   "source": [
    "logit_res_e = sm.logit('survived ~ sex + class1 + class2 + sex*class1 + sex*class2', df).fit()\n",
    "print(logit_res_e.summary())"
   ]
  },
  {
   "cell_type": "markdown",
   "metadata": {},
   "source": [
    "Расширенная модель **Пробит**"
   ]
  },
  {
   "cell_type": "code",
   "execution_count": 81,
   "metadata": {
    "collapsed": false
   },
   "outputs": [
    {
     "name": "stdout",
     "output_type": "stream",
     "text": [
      "Optimization terminated successfully.\n",
      "         Current function value: 0.444751\n",
      "         Iterations 7\n",
      "                          Probit Regression Results                           \n",
      "==============================================================================\n",
      "Dep. Variable:               survived   No. Observations:                 1131\n",
      "Model:                         Probit   Df Residuals:                     1125\n",
      "Method:                           MLE   Df Model:                            5\n",
      "Date:                Mon, 29 May 2017   Pseudo R-squ.:                  0.3219\n",
      "Time:                        14:51:03   Log-Likelihood:                -503.01\n",
      "converged:                       True   LL-Null:                       -741.76\n",
      "                                        LLR p-value:                5.776e-101\n",
      "==============================================================================\n",
      "                 coef    std err          z      P>|z|      [95.0% Conf. Int.]\n",
      "------------------------------------------------------------------------------\n",
      "Intercept     -0.0989      0.098     -1.012      0.312        -0.290     0.093\n",
      "sex           -0.9108      0.122     -7.478      0.000        -1.149    -0.672\n",
      "class1         1.9819      0.238      8.329      0.000         1.516     2.448\n",
      "class2         1.1378      0.191      5.950      0.000         0.763     1.513\n",
      "sex:class1    -1.4610      0.269     -5.422      0.000        -1.989    -0.933\n",
      "sex:class2    -1.4486      0.249     -5.812      0.000        -1.937    -0.960\n",
      "==============================================================================\n"
     ]
    }
   ],
   "source": [
    "probit_res_e = sm.probit('survived ~ sex + class1 + class2 + sex*class1 + sex*class2', df).fit()\n",
    "print(probit_res_e.summary())"
   ]
  },
  {
   "cell_type": "markdown",
   "metadata": {},
   "source": [
    "Расширенная **Линейная вероятностная** модель"
   ]
  },
  {
   "cell_type": "code",
   "execution_count": 82,
   "metadata": {
    "collapsed": false
   },
   "outputs": [
    {
     "name": "stdout",
     "output_type": "stream",
     "text": [
      "                            OLS Regression Results                            \n",
      "==============================================================================\n",
      "Dep. Variable:               survived   R-squared:                       0.388\n",
      "Model:                            OLS   Adj. R-squared:                  0.385\n",
      "Method:                 Least Squares   F-statistic:                     142.5\n",
      "Date:                Mon, 29 May 2017   Prob (F-statistic):          3.57e-117\n",
      "Time:                        14:51:03   Log-Likelihood:                -500.19\n",
      "No. Observations:                1131   AIC:                             1012.\n",
      "Df Residuals:                    1125   BIC:                             1043.\n",
      "Df Model:                           5                                         \n",
      "Covariance Type:            nonrobust                                         \n",
      "==============================================================================\n",
      "                 coef    std err          t      P>|t|      [95.0% Conf. Int.]\n",
      "------------------------------------------------------------------------------\n",
      "Intercept      0.4606      0.029     15.671      0.000         0.403     0.518\n",
      "sex           -0.3043      0.035     -8.815      0.000        -0.372    -0.237\n",
      "class1         0.5095      0.044     11.605      0.000         0.423     0.596\n",
      "class2         0.3900      0.050      7.796      0.000         0.292     0.488\n",
      "sex:class1    -0.3534      0.056     -6.300      0.000        -0.463    -0.243\n",
      "sex:class2    -0.4530      0.061     -7.367      0.000        -0.574    -0.332\n",
      "==============================================================================\n",
      "Omnibus:                      122.073   Durbin-Watson:                   1.679\n",
      "Prob(Omnibus):                  0.000   Jarque-Bera (JB):              160.723\n",
      "Skew:                           0.902   Prob(JB):                     1.26e-35\n",
      "Kurtosis:                       3.394   Cond. No.                         10.5\n",
      "==============================================================================\n",
      "\n",
      "Warnings:\n",
      "[1] Standard Errors assume that the covariance matrix of the errors is correctly specified.\n"
     ]
    }
   ],
   "source": [
    "ols_res_e = sm.ols('survived ~ sex + class1 + class2 + sex*class1 + sex*class2', df).fit()\n",
    "print(ols_res_e.summary())"
   ]
  },
  {
   "cell_type": "markdown",
   "metadata": {},
   "source": [
    "Проверка гипотезы $H_0$: sex:class1 = sex:class2 = 0 с помощью теста Вальда"
   ]
  },
  {
   "cell_type": "code",
   "execution_count": 83,
   "metadata": {
    "collapsed": false
   },
   "outputs": [
    {
     "name": "stdout",
     "output_type": "stream",
     "text": [
      "<Wald test: statistic=[[ 45.0498955]], p-value=1.6502110350116455e-10>\n"
     ]
    }
   ],
   "source": [
    "w_res = logit_res_e.wald_test(r_matrix='sex:class1=sex:class2=0')\n",
    "print(w_res.summary())"
   ]
  },
  {
   "cell_type": "markdown",
   "metadata": {},
   "source": [
    "Проверка гипотезы $H_0$: sex:class1 = sex:class2 = 0 с помощью отношения правдоподобия"
   ]
  },
  {
   "cell_type": "code",
   "execution_count": 84,
   "metadata": {
    "collapsed": true
   },
   "outputs": [],
   "source": [
    "def likelihood_ratio(full, restricted):\n",
    "    llf_full = full.llf\n",
    "    llf_restr = restricted.llf\n",
    "    df_full = full.df_resid \n",
    "    df_restr = restricted.df_resid \n",
    "    lrdf = (df_restr - df_full)\n",
    "    lrstat = -2*(llf_restr - llf_full)\n",
    "    lr_pvalue = stats.chi2.sf(lrstat, df=lrdf)\n",
    "    return lr_pvalue"
   ]
  },
  {
   "cell_type": "code",
   "execution_count": 85,
   "metadata": {
    "collapsed": false
   },
   "outputs": [
    {
     "name": "stdout",
     "output_type": "stream",
     "text": [
      "p-value = 1.24264035623e-12\n"
     ]
    }
   ],
   "source": [
    "print('p-value =', likelihood_ratio(logit_res_e, logit_res))"
   ]
  },
  {
   "cell_type": "markdown",
   "metadata": {},
   "source": [
    "p-value < 0.05 => $H_0$ не отвергается => роль пола не связана с классом каюты"
   ]
  },
  {
   "cell_type": "code",
   "execution_count": 86,
   "metadata": {
    "collapsed": true
   },
   "outputs": [],
   "source": [
    "df['logit_e'] = pd.Series(logit_res_e.predict(), index=df.index)\n",
    "df['probit_e'] = pd.Series(probit_res_e.predict(), index=df.index)\n",
    "df['ols_e'] = pd.Series(ols_res_e.predict(), index=df.index)"
   ]
  },
  {
   "cell_type": "code",
   "execution_count": 87,
   "metadata": {
    "collapsed": false
   },
   "outputs": [
    {
     "data": {
      "text/html": [
       "<div>\n",
       "<table border=\"1\" class=\"dataframe\">\n",
       "  <thead>\n",
       "    <tr style=\"text-align: right;\">\n",
       "      <th></th>\n",
       "      <th>class1</th>\n",
       "      <th>class2</th>\n",
       "      <th>class3</th>\n",
       "      <th>sex</th>\n",
       "      <th>survived</th>\n",
       "      <th>logit</th>\n",
       "      <th>probit</th>\n",
       "      <th>ols</th>\n",
       "      <th>logit_e</th>\n",
       "      <th>probit_e</th>\n",
       "      <th>ols_e</th>\n",
       "    </tr>\n",
       "  </thead>\n",
       "  <tbody>\n",
       "    <tr>\n",
       "      <th>1</th>\n",
       "      <td>0.0</td>\n",
       "      <td>0.0</td>\n",
       "      <td>1.0</td>\n",
       "      <td>1.0</td>\n",
       "      <td>0.0</td>\n",
       "      <td>0.104621</td>\n",
       "      <td>0.108328</td>\n",
       "      <td>0.100003</td>\n",
       "      <td>0.156322</td>\n",
       "      <td>0.156322</td>\n",
       "      <td>0.156322</td>\n",
       "    </tr>\n",
       "    <tr>\n",
       "      <th>2</th>\n",
       "      <td>1.0</td>\n",
       "      <td>0.0</td>\n",
       "      <td>0.0</td>\n",
       "      <td>1.0</td>\n",
       "      <td>1.0</td>\n",
       "      <td>0.382227</td>\n",
       "      <td>0.390193</td>\n",
       "      <td>0.380215</td>\n",
       "      <td>0.312500</td>\n",
       "      <td>0.312500</td>\n",
       "      <td>0.312500</td>\n",
       "    </tr>\n",
       "    <tr>\n",
       "      <th>3</th>\n",
       "      <td>1.0</td>\n",
       "      <td>0.0</td>\n",
       "      <td>0.0</td>\n",
       "      <td>1.0</td>\n",
       "      <td>1.0</td>\n",
       "      <td>0.382227</td>\n",
       "      <td>0.390193</td>\n",
       "      <td>0.380215</td>\n",
       "      <td>0.312500</td>\n",
       "      <td>0.312500</td>\n",
       "      <td>0.312500</td>\n",
       "    </tr>\n",
       "    <tr>\n",
       "      <th>4</th>\n",
       "      <td>1.0</td>\n",
       "      <td>0.0</td>\n",
       "      <td>0.0</td>\n",
       "      <td>1.0</td>\n",
       "      <td>1.0</td>\n",
       "      <td>0.382227</td>\n",
       "      <td>0.390193</td>\n",
       "      <td>0.380215</td>\n",
       "      <td>0.312500</td>\n",
       "      <td>0.312500</td>\n",
       "      <td>0.312500</td>\n",
       "    </tr>\n",
       "    <tr>\n",
       "      <th>6</th>\n",
       "      <td>0.0</td>\n",
       "      <td>0.0</td>\n",
       "      <td>1.0</td>\n",
       "      <td>1.0</td>\n",
       "      <td>1.0</td>\n",
       "      <td>0.104621</td>\n",
       "      <td>0.108328</td>\n",
       "      <td>0.100003</td>\n",
       "      <td>0.156322</td>\n",
       "      <td>0.156322</td>\n",
       "      <td>0.156322</td>\n",
       "    </tr>\n",
       "    <tr>\n",
       "      <th>...</th>\n",
       "      <td>...</td>\n",
       "      <td>...</td>\n",
       "      <td>...</td>\n",
       "      <td>...</td>\n",
       "      <td>...</td>\n",
       "      <td>...</td>\n",
       "      <td>...</td>\n",
       "      <td>...</td>\n",
       "      <td>...</td>\n",
       "      <td>...</td>\n",
       "      <td>...</td>\n",
       "    </tr>\n",
       "    <tr>\n",
       "      <th>1986</th>\n",
       "      <td>0.0</td>\n",
       "      <td>0.0</td>\n",
       "      <td>1.0</td>\n",
       "      <td>1.0</td>\n",
       "      <td>0.0</td>\n",
       "      <td>0.104621</td>\n",
       "      <td>0.108328</td>\n",
       "      <td>0.100003</td>\n",
       "      <td>0.156322</td>\n",
       "      <td>0.156322</td>\n",
       "      <td>0.156322</td>\n",
       "    </tr>\n",
       "    <tr>\n",
       "      <th>1988</th>\n",
       "      <td>0.0</td>\n",
       "      <td>0.0</td>\n",
       "      <td>1.0</td>\n",
       "      <td>1.0</td>\n",
       "      <td>0.0</td>\n",
       "      <td>0.104621</td>\n",
       "      <td>0.108328</td>\n",
       "      <td>0.100003</td>\n",
       "      <td>0.156322</td>\n",
       "      <td>0.156322</td>\n",
       "      <td>0.156322</td>\n",
       "    </tr>\n",
       "    <tr>\n",
       "      <th>1990</th>\n",
       "      <td>1.0</td>\n",
       "      <td>0.0</td>\n",
       "      <td>0.0</td>\n",
       "      <td>0.0</td>\n",
       "      <td>0.0</td>\n",
       "      <td>0.886893</td>\n",
       "      <td>0.892546</td>\n",
       "      <td>0.889296</td>\n",
       "      <td>0.970149</td>\n",
       "      <td>0.970149</td>\n",
       "      <td>0.970149</td>\n",
       "    </tr>\n",
       "    <tr>\n",
       "      <th>1991</th>\n",
       "      <td>0.0</td>\n",
       "      <td>0.0</td>\n",
       "      <td>1.0</td>\n",
       "      <td>1.0</td>\n",
       "      <td>0.0</td>\n",
       "      <td>0.104621</td>\n",
       "      <td>0.108328</td>\n",
       "      <td>0.100003</td>\n",
       "      <td>0.156322</td>\n",
       "      <td>0.156322</td>\n",
       "      <td>0.156322</td>\n",
       "    </tr>\n",
       "    <tr>\n",
       "      <th>1996</th>\n",
       "      <td>1.0</td>\n",
       "      <td>0.0</td>\n",
       "      <td>0.0</td>\n",
       "      <td>1.0</td>\n",
       "      <td>0.0</td>\n",
       "      <td>0.382227</td>\n",
       "      <td>0.390193</td>\n",
       "      <td>0.380215</td>\n",
       "      <td>0.312500</td>\n",
       "      <td>0.312500</td>\n",
       "      <td>0.312500</td>\n",
       "    </tr>\n",
       "  </tbody>\n",
       "</table>\n",
       "<p>1131 rows × 11 columns</p>\n",
       "</div>"
      ],
      "text/plain": [
       "      class1  class2  class3  sex  survived     logit    probit       ols  \\\n",
       "1        0.0     0.0     1.0  1.0       0.0  0.104621  0.108328  0.100003   \n",
       "2        1.0     0.0     0.0  1.0       1.0  0.382227  0.390193  0.380215   \n",
       "3        1.0     0.0     0.0  1.0       1.0  0.382227  0.390193  0.380215   \n",
       "4        1.0     0.0     0.0  1.0       1.0  0.382227  0.390193  0.380215   \n",
       "6        0.0     0.0     1.0  1.0       1.0  0.104621  0.108328  0.100003   \n",
       "...      ...     ...     ...  ...       ...       ...       ...       ...   \n",
       "1986     0.0     0.0     1.0  1.0       0.0  0.104621  0.108328  0.100003   \n",
       "1988     0.0     0.0     1.0  1.0       0.0  0.104621  0.108328  0.100003   \n",
       "1990     1.0     0.0     0.0  0.0       0.0  0.886893  0.892546  0.889296   \n",
       "1991     0.0     0.0     1.0  1.0       0.0  0.104621  0.108328  0.100003   \n",
       "1996     1.0     0.0     0.0  1.0       0.0  0.382227  0.390193  0.380215   \n",
       "\n",
       "       logit_e  probit_e     ols_e  \n",
       "1     0.156322  0.156322  0.156322  \n",
       "2     0.312500  0.312500  0.312500  \n",
       "3     0.312500  0.312500  0.312500  \n",
       "4     0.312500  0.312500  0.312500  \n",
       "6     0.156322  0.156322  0.156322  \n",
       "...        ...       ...       ...  \n",
       "1986  0.156322  0.156322  0.156322  \n",
       "1988  0.156322  0.156322  0.156322  \n",
       "1990  0.970149  0.970149  0.970149  \n",
       "1991  0.156322  0.156322  0.156322  \n",
       "1996  0.312500  0.312500  0.312500  \n",
       "\n",
       "[1131 rows x 11 columns]"
      ]
     },
     "execution_count": 87,
     "metadata": {},
     "output_type": "execute_result"
    }
   ],
   "source": [
    "df"
   ]
  },
  {
   "cell_type": "code",
   "execution_count": null,
   "metadata": {
    "collapsed": true
   },
   "outputs": [],
   "source": []
  }
 ],
 "metadata": {
  "anaconda-cloud": {},
  "kernelspec": {
   "display_name": "Python [default]",
   "language": "python",
   "name": "python3"
  },
  "language_info": {
   "codemirror_mode": {
    "name": "ipython",
    "version": 3
   },
   "file_extension": ".py",
   "mimetype": "text/x-python",
   "name": "python",
   "nbconvert_exporter": "python",
   "pygments_lexer": "ipython3",
   "version": "3.5.2"
  }
 },
 "nbformat": 4,
 "nbformat_minor": 2
}
